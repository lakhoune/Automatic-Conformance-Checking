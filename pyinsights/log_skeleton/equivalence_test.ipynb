{
 "cells": [
  {
   "cell_type": "code",
   "execution_count": 1,
   "metadata": {
    "collapsed": true
   },
   "outputs": [],
   "source": [
    "import itertools\n",
    "\n",
    "import numpy as np\n",
    "import pandas as pd\n",
    "import streamlit as st\n",
    "import plotly.express as px\n",
    "from pycelonis import get_celonis\n",
    "from pycelonis.celonis_api.pql.pql import PQL, PQLColumn, PQLFilter\n",
    "from pyinsights import Connector\n",
    "from pyinsights.organisational_profiling import ResourceProfiler\n",
    "from pyinsights.temporal_profiling import TemporalProfiler\n",
    "from pyinsights.conformance import alignment_scores\n",
    "from pm4py.algo.discovery.temporal_profile import algorithm as temporal_profile_discovery\n",
    "from pm4py.algo.conformance.temporal_profile import algorithm as temporal_profile_conformance\n",
    "import itertools"
   ]
  },
  {
   "cell_type": "code",
   "execution_count": 63,
   "outputs": [
    {
     "name": "stderr",
     "output_type": "stream",
     "text": [
      "2022-12-06 12:28:44.406 INFO    pycelonis.Celonis: Initial connect successful! Hello Christian Fiedler. PyCelonis Version: 1.7.3\n"
     ]
    },
    {
     "name": "stdout",
     "output_type": "stream",
     "text": [
      "Available datamodels:\n",
      "[\n",
      "<Datamodel, id 32b0abb8-bbcf-4700-8123-d11443e57bdd, name deviation_test_small>,\n",
      "<Datamodel, id 376145f1-790d-4deb-8e20-083a4dfd7ca7, name bac>,\n",
      "<Datamodel, id 5bafe966-eae5-455d-8435-1a3f51f71179, name sepsis-cases>,\n",
      "<Datamodel, id 799586e2-4d1f-4e5d-85ff-2bb17a491d1b, name bpi-12>,\n",
      "<Datamodel, id 99e62af6-ce51-445d-a1e6-634aaeafff11, name waiting_test_small>,\n",
      "<Datamodel, id be94a068-0970-4400-b2a1-c604b174503e, name bpi-challenge-2017>,\n",
      "<Datamodel, id 01184974-3604-49fc-b410-ad88143f9802, name mlapm-bac-sampled>,\n",
      "<Datamodel, id bf7dfa1e-5e86-470e-9f7c-5672e8b1637f, name mlapm-running-example>,\n",
      "]\n",
      "Input id of datamodel:\n"
     ]
    }
   ],
   "source": [
    "celonis_url = \"https://christian-fiedler1-rwth-aachen-de.training.celonis.cloud/\"\n",
    "api_token = \"MzdhNWNlNDItOTJhNC00ZTE1LThlMGMtOTc4MGVmOWNjYjIyOjVTcW8wSlVmbFVkMG84bFZTRUw4bTJDZVNIazVZWlJsZWQ2bTUzbWtLSDJM\"\n",
    "connector = Connector(api_token=api_token, url=celonis_url, key_type=\"USER_KEY\")\n",
    "\n",
    "# choose data model\n",
    "print(\"Available datamodels:\")\n",
    "print(connector.celonis.datamodels)\n",
    "print(\"Input id of datamodel:\")\n",
    "\n",
    "connector.set_parameters(model_id=\"bf7dfa1e-5e86-470e-9f7c-5672e8b1637f\")#, end_timestamp=\"END_DATE\")\n",
    "\n",
    "datamodel = connector.datamodel\n",
    "activity_table = connector.activity_table()\n",
    "case_col = connector.case_col()\n",
    "act_col = connector.activity_col()\n",
    "timestamp = connector.timestamp()\n",
    "transition_mode = \"ANY_OCCURRENCE[] TO ANY_OCCURRENCE[]\"\n"
   ],
   "metadata": {
    "collapsed": false
   }
  },
  {
   "cell_type": "code",
   "execution_count": 65,
   "outputs": [
    {
     "name": "stderr",
     "output_type": "stream",
     "text": [
      "2022-12-06 12:29:24.346 INFO    pycelonis.ComputeNode: PQL Export started...\n",
      "2022-12-06 12:29:24.490 INFO    pycelonis.ComputeNode: PQL Export status: DONE\n"
     ]
    },
    {
     "name": "stdout",
     "output_type": "stream",
     "text": [
      "    CASE:CONCEPT:NAME            ACTIVITY  max nr\n",
      "0                   1        check ticket       1\n",
      "1                   1              decide       1\n",
      "2                   1  examine thoroughly       1\n",
      "3                   1    register request       1\n",
      "4                   1      reject request       1\n",
      "5                   2        check ticket       1\n",
      "6                   2              decide       1\n",
      "7                   2    examine casually       1\n",
      "8                   2    pay compensation       1\n",
      "9                   2    register request       1\n",
      "10                  3        check ticket       2\n",
      "11                  3              decide       2\n",
      "12                  3    examine casually       1\n",
      "13                  3  examine thoroughly       1\n",
      "14                  3    pay compensation       1\n",
      "15                  3    register request       1\n",
      "16                  3  reinitiate request       1\n",
      "17                  4        check ticket       1\n",
      "18                  4              decide       1\n",
      "19                  4  examine thoroughly       1\n",
      "20                  4    register request       1\n",
      "21                  4      reject request       1\n",
      "22                  5        check ticket       3\n",
      "23                  5              decide       3\n",
      "24                  5    examine casually       3\n",
      "25                  5    register request       1\n",
      "26                  5  reinitiate request       2\n",
      "27                  5      reject request       1\n",
      "28                  6        check ticket       1\n",
      "29                  6              decide       1\n",
      "30                  6    examine casually       1\n",
      "31                  6    pay compensation       1\n",
      "32                  6    register request       1\n"
     ]
    }
   ],
   "source": [
    "query = PQL()\n",
    "query.add(PQLColumn(name=case_col,\n",
    "                        query=f\"\"\"DISTINCT \"{activity_table}\".\"{case_col}\"  \"\"\"))\n",
    "query.add(PQLColumn(name=act_col,\n",
    "                        query=f\"\"\" \"{activity_table}\".\"{act_col}\"  \"\"\"))\n",
    "query.add(PQLColumn(\n",
    "        name=\"max nr\", query=f\"\"\"\n",
    "        PU_MAX( DOMAIN_TABLE(\"{activity_table}\".\"{case_col}\", \"{activity_table}\".\"{act_col}\"),\n",
    "        ACTIVATION_COUNT ( \"{activity_table}\".\"{act_col}\" ) ) \"\"\"))\n",
    "query += PQLFilter(f\"\"\"\n",
    "    PU_MAX( DOMAIN_TABLE(\"{activity_table}\".\"{case_col}\", \"{activity_table}\".\"{act_col}\"),\n",
    "        ACTIVATION_COUNT ( \"{activity_table}\".\"{act_col}\" ) ) >= 1\n",
    "    \"\"\")\n",
    "df = datamodel.get_data_frame(query)\n",
    "print(df.to_string())\n"
   ],
   "metadata": {
    "collapsed": false
   }
  },
  {
   "cell_type": "code",
   "execution_count": 20,
   "outputs": [
    {
     "name": "stdout",
     "output_type": "stream",
     "text": [
      "[('a', 'b')]\n",
      "{(1, 1): [0, 1], (2, 1): [2]}\n"
     ]
    }
   ],
   "source": [
    "df_toy = pd.DataFrame({case_col: [1,1,2], act_col: ['a','b','a'], \"max nr\":[1,1,1]})\n",
    "grouped = df_toy.groupby(by=[case_col, \"max nr\"], axis=0)\n",
    "act_list = df_toy[act_col].unique()\n",
    "pairs = itertools.combinations(act_list,2)\n",
    "print(list(pairs))\n",
    "print(grouped.groups)"
   ],
   "metadata": {
    "collapsed": false
   }
  },
  {
   "cell_type": "code",
   "execution_count": 54,
   "outputs": [
    {
     "name": "stdout",
     "output_type": "stream",
     "text": [
      "['a']\n",
      "[('a', 'b')]\n"
     ]
    }
   ],
   "source": [
    "singletons = []\n",
    "relation = []\n",
    "groups = grouped.groups\n",
    "for cases in grouped.groups.values():\n",
    "    if len(cases) < 2:\n",
    "        singletons.append(df_toy.loc[cases, act_col].unique()[0])\n",
    "\n",
    "    else:\n",
    "        activities = df_toy.loc[cases, act_col]\n",
    "        activities.drop(labels=singletons)\n",
    "        pairs = itertools.combinations(activities,2)\n",
    "        for pair in pairs:\n",
    "            relation.append(pair)\n",
    "\n",
    "print(singletons)\n",
    "print(relation)\n"
   ],
   "metadata": {
    "collapsed": false
   }
  },
  {
   "cell_type": "code",
   "execution_count": 93,
   "outputs": [
    {
     "name": "stdout",
     "output_type": "stream",
     "text": [
      "{(1, 1): {'register request', 'reject request', 'decide', 'check ticket', 'examine thoroughly'}, (2, 1): {'examine casually', 'register request', 'pay compensation', 'decide', 'check ticket'}, (3, 1): {'examine casually', 'register request', 'pay compensation', 'reinitiate request', 'examine thoroughly'}, (3, 2): {'decide', 'check ticket'}, (4, 1): {'register request', 'reject request', 'decide', 'check ticket', 'examine thoroughly'}, (5, 1): {'register request', 'reject request'}, (5, 2): {'reinitiate request'}, (5, 3): {'examine casually', 'decide', 'check ticket'}, (6, 1): {'examine casually', 'register request', 'pay compensation', 'decide', 'check ticket'}}\n",
      "{'reject request', 'decide', 'register request', 'check ticket', 'examine thoroughly'}\n",
      "{'reject request', 'examine thoroughly'}\n",
      "{'reject request'}\n",
      "{'reject request'}\n",
      "set()\n",
      "set()\n",
      "set()\n",
      "set()\n",
      "set()\n",
      "set()\n",
      "set()\n"
     ]
    }
   ],
   "source": [
    "grouped2 = df.groupby(by=[case_col, \"max nr\"], axis=0)\n",
    "\n",
    "groups = grouped2.groups\n"
   ],
   "metadata": {
    "collapsed": false
   }
  },
  {
   "cell_type": "code",
   "execution_count": 83,
   "outputs": [
    {
     "data": {
      "text/plain": "parsing log, completed traces ::   0%|          | 0/6 [00:00<?, ?it/s]",
      "application/vnd.jupyter.widget-view+json": {
       "version_major": 2,
       "version_minor": 0,
       "model_id": "3eec1e5af34c432d9a6bf5c88205928e"
      }
     },
     "metadata": {},
     "output_type": "display_data"
    },
    {
     "data": {
      "text/plain": "{'equivalence': {('check ticket', 'decide'),\n  ('decide', 'check ticket'),\n  ('examine thoroughly', 'register request'),\n  ('pay compensation', 'examine casually'),\n  ('pay compensation', 'register request'),\n  ('reject request', 'register request')},\n 'always_after': {('check ticket', 'decide'),\n  ('examine casually', 'check ticket'),\n  ('examine casually', 'decide'),\n  ('examine thoroughly', 'decide'),\n  ('register request', 'check ticket'),\n  ('register request', 'decide'),\n  ('register request', 'examine casually'),\n  ('reinitiate request', 'check ticket'),\n  ('reinitiate request', 'decide'),\n  ('reinitiate request', 'examine casually')},\n 'always_before': {('check ticket', 'register request'),\n  ('decide', 'check ticket'),\n  ('decide', 'examine casually'),\n  ('decide', 'register request'),\n  ('examine casually', 'register request'),\n  ('examine thoroughly', 'register request'),\n  ('pay compensation', 'check ticket'),\n  ('pay compensation', 'decide'),\n  ('pay compensation', 'examine casually'),\n  ('pay compensation', 'register request'),\n  ('reinitiate request', 'check ticket'),\n  ('reinitiate request', 'decide'),\n  ('reinitiate request', 'examine casually'),\n  ('reinitiate request', 'register request'),\n  ('reject request', 'check ticket'),\n  ('reject request', 'decide'),\n  ('reject request', 'examine casually'),\n  ('reject request', 'register request')},\n 'never_together': {('pay compensation', 'reject request'),\n  ('reject request', 'pay compensation')},\n 'directly_follows': set(),\n 'activ_freq': {'register request': {1},\n  'examine casually': {0, 1, 3},\n  'check ticket': {1, 2, 3},\n  'decide': {1, 2, 3},\n  'reinitiate request': {0, 1, 2},\n  'examine thoroughly': {0, 1},\n  'pay compensation': {0, 1},\n  'reject request': {0, 1}}}"
     },
     "execution_count": 83,
     "metadata": {},
     "output_type": "execute_result"
    }
   ],
   "source": [
    "from pm4py.algo.discovery.log_skeleton import algorithm as lsk_discovery\n",
    "import pm4py\n",
    "log = pm4py.read_xes(\"../../event-logs/running-example.xes\")\n",
    "\n",
    "skeleton = lsk_discovery.apply(log, parameters={lsk_discovery.Variants.CLASSIC.value.Parameters.NOISE_THRESHOLD: 0.0})\n",
    "skeleton\n"
   ],
   "metadata": {
    "collapsed": false
   }
  }
 ],
 "metadata": {
  "kernelspec": {
   "display_name": "Python 3",
   "language": "python",
   "name": "python3"
  },
  "language_info": {
   "codemirror_mode": {
    "name": "ipython",
    "version": 2
   },
   "file_extension": ".py",
   "mimetype": "text/x-python",
   "name": "python",
   "nbconvert_exporter": "python",
   "pygments_lexer": "ipython2",
   "version": "2.7.6"
  }
 },
 "nbformat": 4,
 "nbformat_minor": 0
}
