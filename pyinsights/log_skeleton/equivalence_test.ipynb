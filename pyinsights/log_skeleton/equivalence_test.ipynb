{
 "cells": [
  {
   "cell_type": "code",
   "execution_count": 1,
   "metadata": {
    "collapsed": false
   },
   "outputs": [],
   "source": [
    "import numpy as np\n",
    "import pandas as pd\n",
    "import streamlit as st\n",
    "import plotly.express as px\n",
    "from pycelonis import get_celonis\n",
    "from pycelonis.celonis_api.pql.pql import PQL, PQLColumn, PQLFilter\n",
    "from pyinsights import Connector\n",
    "import itertools"
   ]
  },
  {
   "cell_type": "code",
   "execution_count": 2,
   "metadata": {
    "collapsed": false
   },
   "outputs": [
    {
     "name": "stderr",
     "output_type": "stream",
     "text": [
      "2022-12-06 14:28:02.691 INFO    pycelonis.Celonis: Initial connect successful! Hello Christian Fiedler. PyCelonis Version: 1.7.3\n"
     ]
    },
    {
     "name": "stdout",
     "output_type": "stream",
     "text": [
      "Available datamodels:\n",
      "[\n",
      "<Datamodel, id 32b0abb8-bbcf-4700-8123-d11443e57bdd, name deviation_test_small>,\n",
      "<Datamodel, id 376145f1-790d-4deb-8e20-083a4dfd7ca7, name bac>,\n",
      "<Datamodel, id 5bafe966-eae5-455d-8435-1a3f51f71179, name sepsis-cases>,\n",
      "<Datamodel, id 799586e2-4d1f-4e5d-85ff-2bb17a491d1b, name bpi-12>,\n",
      "<Datamodel, id 99e62af6-ce51-445d-a1e6-634aaeafff11, name waiting_test_small>,\n",
      "<Datamodel, id be94a068-0970-4400-b2a1-c604b174503e, name bpi-challenge-2017>,\n",
      "<Datamodel, id 01184974-3604-49fc-b410-ad88143f9802, name mlapm-bac-sampled>,\n",
      "<Datamodel, id bf7dfa1e-5e86-470e-9f7c-5672e8b1637f, name mlapm-running-example>,\n",
      "]\n",
      "Input id of datamodel:\n"
     ]
    }
   ],
   "source": [
    "celonis_url = \"https://christian-fiedler1-rwth-aachen-de.training.celonis.cloud/\"\n",
    "api_token = \"MzdhNWNlNDItOTJhNC00ZTE1LThlMGMtOTc4MGVmOWNjYjIyOjVTcW8wSlVmbFVkMG84bFZTRUw4bTJDZVNIazVZWlJsZWQ2bTUzbWtLSDJM\"\n",
    "connector = Connector(api_token=api_token, url=celonis_url, key_type=\"USER_KEY\")\n",
    "\n",
    "# choose data model\n",
    "print(\"Available datamodels:\")\n",
    "print(connector.celonis.datamodels)\n",
    "print(\"Input id of datamodel:\")\n",
    "\n",
    "connector.set_parameters(model_id=\"bf7dfa1e-5e86-470e-9f7c-5672e8b1637f\")#, end_timestamp=\"END_DATE\")\n",
    "\n",
    "datamodel = connector.datamodel\n",
    "activity_table = connector.activity_table()\n",
    "case_col = connector.case_col()\n",
    "act_col = connector.activity_col()\n",
    "timestamp = connector.timestamp()\n",
    "transition_mode = \"ANY_OCCURRENCE[] TO ANY_OCCURRENCE[]\"\n"
   ]
  },
  {
   "cell_type": "code",
   "execution_count": 3,
   "metadata": {
    "collapsed": false
   },
   "outputs": [
    {
     "name": "stderr",
     "output_type": "stream",
     "text": [
      "2022-12-06 14:28:05.486 INFO    pycelonis.ComputeNode: PQL Export started...\n",
      "2022-12-06 14:28:06.599 INFO    pycelonis.ComputeNode: PQL Export status: DONE\n"
     ]
    },
    {
     "name": "stdout",
     "output_type": "stream",
     "text": [
      "    CASE:CONCEPT:NAME            ACTIVITY  max nr\n",
      "0                   1        check ticket       1\n",
      "1                   1              decide       1\n",
      "2                   1  examine thoroughly       1\n",
      "3                   1    register request       1\n",
      "4                   1      reject request       1\n",
      "5                   2        check ticket       1\n",
      "6                   2              decide       1\n",
      "7                   2    examine casually       1\n",
      "8                   2    pay compensation       1\n",
      "9                   2    register request       1\n",
      "10                  3        check ticket       2\n",
      "11                  3              decide       2\n",
      "12                  3    examine casually       1\n",
      "13                  3  examine thoroughly       1\n",
      "14                  3    pay compensation       1\n",
      "15                  3    register request       1\n",
      "16                  3  reinitiate request       1\n",
      "17                  4        check ticket       1\n",
      "18                  4              decide       1\n",
      "19                  4  examine thoroughly       1\n",
      "20                  4    register request       1\n",
      "21                  4      reject request       1\n",
      "22                  5        check ticket       3\n",
      "23                  5              decide       3\n",
      "24                  5    examine casually       3\n",
      "25                  5    register request       1\n",
      "26                  5  reinitiate request       2\n",
      "27                  5      reject request       1\n",
      "28                  6        check ticket       1\n",
      "29                  6              decide       1\n",
      "30                  6    examine casually       1\n",
      "31                  6    pay compensation       1\n",
      "32                  6    register request       1\n"
     ]
    }
   ],
   "source": [
    "query = PQL()\n",
    "query.add(PQLColumn(name=case_col,\n",
    "                        query=f\"\"\"DISTINCT \"{activity_table}\".\"{case_col}\"  \"\"\"))\n",
    "query.add(PQLColumn(name=act_col,\n",
    "                        query=f\"\"\" \"{activity_table}\".\"{act_col}\"  \"\"\"))\n",
    "query.add(PQLColumn(\n",
    "        name=\"max nr\", query=f\"\"\"\n",
    "        PU_MAX( DOMAIN_TABLE(\"{activity_table}\".\"{case_col}\", \"{activity_table}\".\"{act_col}\"),\n",
    "        ACTIVATION_COUNT ( \"{activity_table}\".\"{act_col}\" ) ) \"\"\"))\n",
    "query += PQLFilter(f\"\"\"\n",
    "    PU_MAX( DOMAIN_TABLE(\"{activity_table}\".\"{case_col}\", \"{activity_table}\".\"{act_col}\"),\n",
    "        ACTIVATION_COUNT ( \"{activity_table}\".\"{act_col}\" ) ) >= 1\n",
    "    \"\"\")\n",
    "df = datamodel.get_data_frame(query)\n",
    "print(df.to_string())\n"
   ]
  },
  {
   "cell_type": "code",
   "execution_count": 4,
   "metadata": {
    "collapsed": false
   },
   "outputs": [
    {
     "name": "stdout",
     "output_type": "stream",
     "text": [
      "[('a', 'b')]\n",
      "{(1, 1): [0, 1], (2, 1): [2]}\n"
     ]
    }
   ],
   "source": [
    "df_toy = pd.DataFrame({case_col: [1,1,2], act_col: ['a','b','a'], \"max nr\":[1,1,1]})\n",
    "grouped = df_toy.groupby(by=[case_col, \"max nr\"], axis=0)\n",
    "act_list = df_toy[act_col].unique()\n",
    "pairs = itertools.combinations(act_list,2)\n",
    "print(list(pairs))\n",
    "print(grouped.groups)"
   ]
  },
  {
   "cell_type": "code",
   "execution_count": 5,
   "metadata": {
    "collapsed": false
   },
   "outputs": [
    {
     "name": "stdout",
     "output_type": "stream",
     "text": [
      "['a']\n",
      "[('a', 'b')]\n"
     ]
    }
   ],
   "source": [
    "singletons = []\n",
    "relation = []\n",
    "groups = grouped.groups\n",
    "for cases in grouped.groups.values():\n",
    "    if len(cases) < 2:\n",
    "        singletons.append(df_toy.loc[cases, act_col].unique()[0])\n",
    "\n",
    "    else:\n",
    "        activities = df_toy.loc[cases, act_col]\n",
    "        activities.drop(labels=singletons)\n",
    "        pairs = itertools.combinations(activities,2)\n",
    "        for pair in pairs:\n",
    "            relation.append(pair)\n",
    "\n",
    "print(singletons)\n",
    "print(relation)\n"
   ]
  },
  {
   "cell_type": "code",
   "execution_count": 19,
   "metadata": {
    "collapsed": false
   },
   "outputs": [
    {
     "name": "stdout",
     "output_type": "stream",
     "text": [
      "{'check ticket': [0, 5, 10, 17, 22, 28], 'decide': [1, 6, 11, 18, 23, 29], 'examine casually': [7, 12, 24, 30], 'examine thoroughly': [2, 13, 19], 'pay compensation': [8, 14, 31], 'register request': [3, 9, 15, 20, 25, 32], 'reinitiate request': [16, 26], 'reject request': [4, 21, 27]}\n",
      "{'check ticket':     CASE:CONCEPT:NAME  max nr\n",
      "0                   1       1\n",
      "5                   2       1\n",
      "10                  3       2\n",
      "17                  4       1\n",
      "22                  5       3\n",
      "28                  6       1, 'decide':     CASE:CONCEPT:NAME  max nr\n",
      "1                   1       1\n",
      "6                   2       1\n",
      "11                  3       2\n",
      "18                  4       1\n",
      "23                  5       3\n",
      "29                  6       1, 'examine casually':     CASE:CONCEPT:NAME  max nr\n",
      "7                   2       1\n",
      "12                  3       1\n",
      "24                  5       3\n",
      "30                  6       1, 'examine thoroughly':     CASE:CONCEPT:NAME  max nr\n",
      "2                   1       1\n",
      "13                  3       1\n",
      "19                  4       1, 'pay compensation':     CASE:CONCEPT:NAME  max nr\n",
      "8                   2       1\n",
      "14                  3       1\n",
      "31                  6       1, 'register request':     CASE:CONCEPT:NAME  max nr\n",
      "3                   1       1\n",
      "9                   2       1\n",
      "15                  3       1\n",
      "20                  4       1\n",
      "25                  5       1\n",
      "32                  6       1, 'reinitiate request':     CASE:CONCEPT:NAME  max nr\n",
      "16                  3       1\n",
      "26                  5       2, 'reject request':     CASE:CONCEPT:NAME  max nr\n",
      "4                   1       1\n",
      "21                  4       1\n",
      "27                  5       1}\n",
      "{('reject request', 'register request'), ('examine thoroughly', 'register request'), ('check ticket', 'decide'), ('pay compensation', 'examine casually'), ('pay compensation', 'register request')}\n"
     ]
    }
   ],
   "source": [
    "grouped2 = df.groupby(by=[act_col], axis=0)\n",
    "groups = grouped2.groups\n",
    "print(groups)\n",
    "d2 = {k: df.loc[v, [case_col, \"max nr\"]] for k, v in groups.items()}\n",
    "print(d2)\n",
    "combs = itertools.permutations(d2.keys(),2)\n",
    "list2 = set()\n",
    "for pair in combs:\n",
    "\n",
    "    if len(d2[pair[0]].merge(d2[pair[1]])) == len(d2[pair[0]]):\n",
    "        if tuple((pair[1], pair[0])) not in list2:\n",
    "            list2.add(pair)\n",
    "\n",
    "print(set(list2))\n",
    "\n"
   ]
  },
  {
   "cell_type": "code",
   "execution_count": 11,
   "metadata": {
    "collapsed": false
   },
   "outputs": [
    {
     "ename": "ModuleNotFoundError",
     "evalue": "No module named 'pm4py.algo'; 'pm4py' is not a package",
     "output_type": "error",
     "traceback": [
      "\u001B[1;31m---------------------------------------------------------------------------\u001B[0m",
      "\u001B[1;31mModuleNotFoundError\u001B[0m                       Traceback (most recent call last)",
      "Cell \u001B[1;32mIn [11], line 1\u001B[0m\n\u001B[1;32m----> 1\u001B[0m \u001B[38;5;28;01mfrom\u001B[39;00m \u001B[38;5;21;01mpm4py\u001B[39;00m\u001B[38;5;21;01m.\u001B[39;00m\u001B[38;5;21;01malgo\u001B[39;00m\u001B[38;5;21;01m.\u001B[39;00m\u001B[38;5;21;01mdiscovery\u001B[39;00m\u001B[38;5;21;01m.\u001B[39;00m\u001B[38;5;21;01mlog_skeleton\u001B[39;00m \u001B[38;5;28;01mimport\u001B[39;00m algorithm \u001B[38;5;28;01mas\u001B[39;00m lsk_discovery\n\u001B[0;32m      2\u001B[0m \u001B[38;5;28;01mimport\u001B[39;00m \u001B[38;5;21;01mpm4py\u001B[39;00m\n\u001B[0;32m      3\u001B[0m log \u001B[38;5;241m=\u001B[39m pm4py\u001B[38;5;241m.\u001B[39mread_xes(\u001B[38;5;124m\"\u001B[39m\u001B[38;5;124m../../event-logs/running-example.xes\u001B[39m\u001B[38;5;124m\"\u001B[39m)\n",
      "\u001B[1;31mModuleNotFoundError\u001B[0m: No module named 'pm4py.algo'; 'pm4py' is not a package"
     ]
    }
   ],
   "source": [
    "from pm4py.algo.discovery.log_skeleton import algorithm as lsk_discovery\n",
    "import pm4py\n",
    "log = pm4py.read_xes(\"../../event-logs/running-example.xes\")\n",
    "\n",
    "skeleton = lsk_discovery.apply(log, parameters={lsk_discovery.Variants.CLASSIC.value.Parameters.NOISE_THRESHOLD: 0.0})\n",
    "skeleton\n"
   ]
  }
 ],
 "metadata": {
  "kernelspec": {
   "display_name": "Python 3.10.4 64-bit",
   "language": "python",
   "name": "python3"
  },
  "language_info": {
   "codemirror_mode": {
    "name": "ipython",
    "version": 3
   },
   "file_extension": ".py",
   "mimetype": "text/x-python",
   "name": "python",
   "nbconvert_exporter": "python",
   "pygments_lexer": "ipython3",
   "version": "3.10.4"
  },
  "vscode": {
   "interpreter": {
    "hash": "369f2c481f4da34e4445cda3fffd2e751bd1c4d706f27375911949ba6bb62e1c"
   }
  }
 },
 "nbformat": 4,
 "nbformat_minor": 0
}
